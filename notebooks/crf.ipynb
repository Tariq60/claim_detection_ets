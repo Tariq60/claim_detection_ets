{
 "cells": [
  {
   "cell_type": "code",
   "execution_count": null,
   "metadata": {},
   "outputs": [],
   "source": [
    "from itertools import chain\n",
    "import copy\n",
    "import json\n",
    "import nltk\n",
    "import glob\n",
    "import pandas as pd\n",
    "import sklearn\n",
    "import spacy\n",
    "import scipy.stats\n",
    "from sklearn.metrics import make_scorer\n",
    "from sklearn.metrics import classification_report\n",
    "# from sklearn.cross_validation import cross_val_score\n",
    "# from sklearn.grid_search import RandomizedSearchCV\n",
    "\n",
    "import sklearn_crfsuite\n",
    "from sklearn_crfsuite import scorers\n",
    "from sklearn_crfsuite import metrics\n",
    "model_dir = '/Users/talhindi/miniconda3/lib/python3.7/site-packages/en_core_web_sm/en_core_web_sm-2.1.0'"
   ]
  },
  {
   "cell_type": "code",
   "execution_count": null,
   "metadata": {},
   "outputs": [],
   "source": [
    "# reading essays\n",
    "train_test_split = pd.read_csv('../data/SG2017/train-test-split.csv', sep=';')\n",
    "\n",
    "essays_txt_prg_list = []\n",
    "for file in sorted(glob.glob(\"../data/SG2017/*.txt\")):\n",
    "    essay = open(file).readlines()\n",
    "    essays_txt_prg_list.append(essay)\n",
    "\n",
    "essay_txt_str = []\n",
    "for essay in essays_txt_prg_list:\n",
    "    essay_txt_str.append(''.join(essay))"
   ]
  },
  {
   "cell_type": "code",
   "execution_count": null,
   "metadata": {},
   "outputs": [],
   "source": [
    "# tokenization\n",
    "nlp = spacy.load(model_dir)\n",
    "\n",
    "essay_spacy = []\n",
    "for essay in essay_txt_str:\n",
    "    essay_spacy.append(nlp(essay))"
   ]
  },
  {
   "cell_type": "code",
   "execution_count": null,
   "metadata": {},
   "outputs": [],
   "source": [
    "# getting sent_splits for train and test\n",
    "token_id = 0\n",
    "sent_token_ids_train, sent_token_ids_test = [], []\n",
    "\n",
    "for i, (doc, group) in enumerate(zip(essay_spacy, train_test_split.SET)):\n",
    "    \n",
    "    if group == \"TRAIN\":\n",
    "        for sent in doc.sents:\n",
    "            sent_tokens_ids = []\n",
    "            for token in sent:\n",
    "                sent_tokens_ids.append(token_id)\n",
    "                token_id +=1\n",
    "            sent_token_ids_train.append(sent_tokens_ids)\n",
    "    \n",
    "    else:\n",
    "        for sent in doc.sents:\n",
    "            sent_tokens_ids = []\n",
    "            for token in sent:\n",
    "                sent_tokens_ids.append(token_id)\n",
    "                token_id +=1\n",
    "            sent_token_ids_test.append(sent_tokens_ids)\n",
    "    "
   ]
  },
  {
   "cell_type": "markdown",
   "metadata": {},
   "source": [
    "## Functions"
   ]
  },
  {
   "cell_type": "code",
   "execution_count": 5,
   "metadata": {},
   "outputs": [],
   "source": [
    "def read_features_labels(n_examples, sent_token_ids, directory, feature_files, suffix):\n",
    "    features, labels, feature_sets = [], [], []\n",
    "    \n",
    "    for file in feature_files:\n",
    "        feature_sets.append(open(directory + file + suffix, 'r').readlines())\n",
    "    \n",
    "    for fset in feature_sets:\n",
    "        assert len(fset) == n_examples\n",
    "    \n",
    "    sent_id, token_id = 0, 0\n",
    "    sent, sent_labels = [], []\n",
    "    for i in range(n_examples):\n",
    "        \n",
    "        token_features = {}\n",
    "        for fset in feature_sets:\n",
    "            jsonline = json.loads(fset[i])\n",
    "            for key in jsonline['x'].keys():\n",
    "                if type(jsonline['x'][key]) is int:\n",
    "                    token_features[key] = float(jsonline['x'][key])\n",
    "                else:\n",
    "                    token_features[key] = jsonline['x'][key]\n",
    "        \n",
    "#         print(sent_id, token_id, sent_token_ids[sent_id][token_id], jsonline['id'])\n",
    "        assert sent_token_ids[sent_id][token_id] == jsonline['id']\n",
    "        \n",
    "        sent.append(copy.deepcopy(token_features))\n",
    "        sent_labels.append(str(jsonline['y']))\n",
    "        del token_features\n",
    "        \n",
    "        if token_id == len(sent_token_ids[sent_id])-1:\n",
    "#             print(jsonline['id'], len(sent), len(sent_labels), len(sent_token_ids[sent_id]))\n",
    "            assert len(sent) == len(sent_labels) == len(sent_token_ids[sent_id])\n",
    "            \n",
    "            features.append(sent)\n",
    "            labels.append(sent_labels)\n",
    "            \n",
    "            sent, sent_labels = [], []\n",
    "            sent_id += 1; token_id = 0\n",
    "        else:\n",
    "            token_id += 1\n",
    "    \n",
    "    return features, labels"
   ]
  },
  {
   "cell_type": "code",
   "execution_count": 14,
   "metadata": {},
   "outputs": [],
   "source": [
    "features = [\"structural_position\", \"structural_position_sent\", \"structural_punc\",\n",
    "            \"syntactic_LCA_bin\", \"syntactic_POS\", \"syntactic_LCA_type\", \"lexsyn_1hop\"]\n",
    "\n",
    "suffix='.jsonlines'\n",
    "train_test_sent_splits = [sent_token_ids_train, sent_token_ids_test]\n",
    "train_test_directories=['/Users/talhindi/Documents/claim_detection_wm/claim_features/train/',\n",
    "                        '/Users/talhindi/Documents/claim_detection_wm/claim_features/test/']\n",
    "\n",
    "n_train, n_test = 119752, 29815\n",
    "n_train_test = [n_train, n_test]\n",
    "\n",
    "# X_train, y_train = read_features_labels(n_train_test[0], train_test_sent_splits[0],\n",
    "#                                             train_test_directories[0], features, suffix)\n",
    "# X_test, y_test = read_features_labels(n_train_test[1], train_test_sent_splits[1],\n",
    "#                                             train_test_directories[1], features, suffix)"
   ]
  },
  {
   "cell_type": "code",
   "execution_count": 13,
   "metadata": {},
   "outputs": [],
   "source": [
    "import pickle\n",
    "pickle.dump(X_train, open('../features/train_all.p','wb'))\n",
    "pickle.dump(X_test, open('../features/test_all.p','wb'))\n",
    "pickle.dump(y_train, open('../features/train_labels.p','wb'))\n",
    "pickle.dump(y_test, open('../features/test_labels.p','wb'))"
   ]
  },
  {
   "cell_type": "code",
   "execution_count": 15,
   "metadata": {},
   "outputs": [],
   "source": [
    "features = [\"lexsyn_1hop\"]\n",
    "X_train, y_train = read_features_labels(n_train_test[0], train_test_sent_splits[0],\n",
    "                                            train_test_directories[0], features, suffix)\n",
    "X_test, y_test = read_features_labels(n_train_test[1], train_test_sent_splits[1],\n",
    "                                            train_test_directories[1], features, suffix)"
   ]
  },
  {
   "cell_type": "code",
   "execution_count": 16,
   "metadata": {},
   "outputs": [],
   "source": [
    "pickle.dump(X_train, open('../features/train_lexsyn.p','wb'))\n",
    "pickle.dump(X_test, open('../features/test_lexsyn.p','wb'))"
   ]
  },
  {
   "cell_type": "markdown",
   "metadata": {},
   "source": [
    "# CRF experiments"
   ]
  },
  {
   "cell_type": "code",
   "execution_count": 6,
   "metadata": {},
   "outputs": [],
   "source": [
    "n_train, n_test = 119752, 29815\n",
    "\n",
    "def run_crf_expriments(features, suffix='.jsonlines',\n",
    "                   train_test_sent_splits = [sent_token_ids_train, sent_token_ids_test],\n",
    "                   train_test_directories = ['../features/SG2017_train/', '../features/SG2017_test/'],\n",
    "                   n_train_test = [n_train, n_test]):\n",
    "    \n",
    "    X_train, y_train = read_features_labels(n_train_test[0], train_test_sent_splits[0],\n",
    "                                            train_test_directories[0], features, suffix)\n",
    "    X_test, y_test = read_features_labels(n_train_test[1], train_test_sent_splits[1],\n",
    "                                            train_test_directories[1], features, suffix)\n",
    "    \n",
    "    print('train dir: ', train_test_directories[0])\n",
    "    print('test dir: ', train_test_directories[1])\n",
    "    print('\\nReading the following features: ')\n",
    "    print(features)\n",
    "    \n",
    "    print('\\nBuilding  CRF model')\n",
    "    crf = sklearn_crfsuite.CRF(\n",
    "    algorithm='lbfgs',\n",
    "    c1=0.1,\n",
    "    c2=0.1,\n",
    "    max_iterations=100,\n",
    "    all_possible_transitions=True\n",
    "    )\n",
    "    print(crf)\n",
    "    \n",
    "    print('\\nTraining Model...')\n",
    "    crf.fit(X_train, y_train)\n",
    "    \n",
    "    print('\\nPredictions on the test set')\n",
    "    y_pred = crf.predict(X_test)\n",
    "    print('Macro F1: ', metrics.flat_f1_score(y_test, y_pred, average='macro', labels=['0.0','1.0','2.0']))\n",
    "    \n",
    "    print('\\nclassification report:')\n",
    "    y_test_flat = [y for y_seq in y_test for y in y_seq]\n",
    "    y_pred_flat = [y for y_seq in y_pred for y in y_seq]\n",
    "    print(classification_report(y_test_flat, y_pred_flat, digits=3))\n",
    "    \n",
    "    \n",
    "    print(metrics.flat_classification_report(y_test, y_pred, labels=['0.0','1.0','2.0'], digits=3))"
   ]
  },
  {
   "cell_type": "markdown",
   "metadata": {},
   "source": [
    "## Claim-only Experiments: structural"
   ]
  },
  {
   "cell_type": "code",
   "execution_count": 11,
   "metadata": {
    "scrolled": true
   },
   "outputs": [
    {
     "name": "stdout",
     "output_type": "stream",
     "text": [
      "train dir:  /Users/talhindi/Documents/claim_detection_wm/claim_features/train/\n",
      "test dir:  /Users/talhindi/Documents/claim_detection_wm/claim_features/test/\n",
      "\n",
      "Reading the following features: \n",
      "['structural_position']\n",
      "\n",
      "Building  CRF model\n",
      "CRF(algorithm='lbfgs', all_possible_states=None, all_possible_transitions=True,\n",
      "    averaging=None, c=None, c1=0.1, c2=0.1, calibration_candidates=None,\n",
      "    calibration_eta=None, calibration_max_trials=None, calibration_rate=None,\n",
      "    calibration_samples=None, delta=None, epsilon=None, error_sensitive=None,\n",
      "    gamma=None, keep_tempfiles=None, linesearch=None, max_iterations=100,\n",
      "    max_linesearch=None, min_freq=None, model_filename=None, num_memories=None,\n",
      "    pa_type=None, period=None, trainer_cls=None, variance=None, verbose=False)\n",
      "\n",
      "Training Model...\n",
      "\n",
      "Predictions on the test set\n",
      "Macro F1:  0.30270967814272076\n",
      "\n",
      "classification report:\n",
      "              precision    recall  f1-score   support\n",
      "\n",
      "         0.0      0.789     1.000     0.882     23470\n",
      "         1.0      0.000     0.000     0.000       457\n",
      "         2.0      0.867     0.013     0.026      5888\n",
      "\n",
      "    accuracy                          0.789     29815\n",
      "   macro avg      0.552     0.338     0.303     29815\n",
      "weighted avg      0.792     0.789     0.699     29815\n",
      "\n",
      "              precision    recall  f1-score   support\n",
      "\n",
      "         0.0      0.789     1.000     0.882     23470\n",
      "         1.0      0.000     0.000     0.000       457\n",
      "         2.0      0.867     0.013     0.026      5888\n",
      "\n",
      "    accuracy                          0.789     29815\n",
      "   macro avg      0.552     0.338     0.303     29815\n",
      "weighted avg      0.792     0.789     0.699     29815\n",
      "\n"
     ]
    }
   ],
   "source": [
    "run_crf_expriments([\"structural_position\"],\n",
    "                   train_test_directories=['/Users/talhindi/Documents/claim_detection_wm/claim_features/train/',\n",
    "                                          '/Users/talhindi/Documents/claim_detection_wm/claim_features/test/'])"
   ]
  },
  {
   "cell_type": "code",
   "execution_count": 12,
   "metadata": {
    "scrolled": true
   },
   "outputs": [
    {
     "name": "stdout",
     "output_type": "stream",
     "text": [
      "train dir:  /Users/talhindi/Documents/claim_detection_wm/claim_features/train/\n",
      "test dir:  /Users/talhindi/Documents/claim_detection_wm/claim_features/test/\n",
      "\n",
      "Reading the following features: \n",
      "['structural_position_sent']\n",
      "\n",
      "Building  CRF model\n",
      "CRF(algorithm='lbfgs', all_possible_states=None, all_possible_transitions=True,\n",
      "    averaging=None, c=None, c1=0.1, c2=0.1, calibration_candidates=None,\n",
      "    calibration_eta=None, calibration_max_trials=None, calibration_rate=None,\n",
      "    calibration_samples=None, delta=None, epsilon=None, error_sensitive=None,\n",
      "    gamma=None, keep_tempfiles=None, linesearch=None, max_iterations=100,\n",
      "    max_linesearch=None, min_freq=None, model_filename=None, num_memories=None,\n",
      "    pa_type=None, period=None, trainer_cls=None, variance=None, verbose=False)\n",
      "\n",
      "Training Model...\n",
      "\n",
      "Predictions on the test set\n",
      "Macro F1:  0.29777697095688044\n",
      "\n",
      "classification report:\n"
     ]
    },
    {
     "name": "stderr",
     "output_type": "stream",
     "text": [
      "/Users/talhindi/miniconda3/lib/python3.7/site-packages/sklearn/metrics/_classification.py:1272: UndefinedMetricWarning: Precision and F-score are ill-defined and being set to 0.0 in labels with no predicted samples. Use `zero_division` parameter to control this behavior.\n",
      "  _warn_prf(average, modifier, msg_start, len(result))\n"
     ]
    },
    {
     "name": "stdout",
     "output_type": "stream",
     "text": [
      "              precision    recall  f1-score   support\n",
      "\n",
      "         0.0      0.788     0.995     0.879     23470\n",
      "         1.0      0.000     0.000     0.000       457\n",
      "         2.0      0.254     0.007     0.014      5888\n",
      "\n",
      "    accuracy                          0.785     29815\n",
      "   macro avg      0.347     0.334     0.298     29815\n",
      "weighted avg      0.670     0.785     0.695     29815\n",
      "\n",
      "              precision    recall  f1-score   support\n",
      "\n",
      "         0.0      0.788     0.995     0.879     23470\n",
      "         1.0      0.000     0.000     0.000       457\n",
      "         2.0      0.254     0.007     0.014      5888\n",
      "\n",
      "    accuracy                          0.785     29815\n",
      "   macro avg      0.347     0.334     0.298     29815\n",
      "weighted avg      0.670     0.785     0.695     29815\n",
      "\n"
     ]
    }
   ],
   "source": [
    "run_crf_expriments([\"structural_position_sent\"],\n",
    "                   train_test_directories=['/Users/talhindi/Documents/claim_detection_wm/claim_features/train/',\n",
    "                                          '/Users/talhindi/Documents/claim_detection_wm/claim_features/test/'])"
   ]
  },
  {
   "cell_type": "code",
   "execution_count": 13,
   "metadata": {
    "scrolled": true
   },
   "outputs": [
    {
     "name": "stdout",
     "output_type": "stream",
     "text": [
      "train dir:  /Users/talhindi/Documents/claim_detection_wm/claim_features/train/\n",
      "test dir:  /Users/talhindi/Documents/claim_detection_wm/claim_features/test/\n",
      "\n",
      "Reading the following features: \n",
      "['structural_punc']\n",
      "\n",
      "Building  CRF model\n",
      "CRF(algorithm='lbfgs', all_possible_states=None, all_possible_transitions=True,\n",
      "    averaging=None, c=None, c1=0.1, c2=0.1, calibration_candidates=None,\n",
      "    calibration_eta=None, calibration_max_trials=None, calibration_rate=None,\n",
      "    calibration_samples=None, delta=None, epsilon=None, error_sensitive=None,\n",
      "    gamma=None, keep_tempfiles=None, linesearch=None, max_iterations=100,\n",
      "    max_linesearch=None, min_freq=None, model_filename=None, num_memories=None,\n",
      "    pa_type=None, period=None, trainer_cls=None, variance=None, verbose=False)\n",
      "\n",
      "Training Model...\n",
      "\n",
      "Predictions on the test set\n",
      "Macro F1:  0.2937107617087332\n",
      "\n",
      "classification report:\n",
      "              precision    recall  f1-score   support\n",
      "\n",
      "         0.0      0.785     0.984     0.873     23470\n",
      "         1.0      0.000     0.000     0.000       457\n",
      "         2.0      0.062     0.004     0.008      5888\n",
      "\n",
      "    accuracy                          0.775     29815\n",
      "   macro avg      0.282     0.329     0.294     29815\n",
      "weighted avg      0.630     0.775     0.689     29815\n",
      "\n",
      "              precision    recall  f1-score   support\n",
      "\n",
      "         0.0      0.785     0.984     0.873     23470\n",
      "         1.0      0.000     0.000     0.000       457\n",
      "         2.0      0.062     0.004     0.008      5888\n",
      "\n",
      "    accuracy                          0.775     29815\n",
      "   macro avg      0.282     0.329     0.294     29815\n",
      "weighted avg      0.630     0.775     0.689     29815\n",
      "\n"
     ]
    }
   ],
   "source": [
    "run_crf_expriments([\"structural_punc\"],\n",
    "                   train_test_directories=['/Users/talhindi/Documents/claim_detection_wm/claim_features/train/',\n",
    "                                          '/Users/talhindi/Documents/claim_detection_wm/claim_features/test/'])"
   ]
  },
  {
   "cell_type": "code",
   "execution_count": 10,
   "metadata": {
    "scrolled": true
   },
   "outputs": [
    {
     "name": "stdout",
     "output_type": "stream",
     "text": [
      "train dir:  /Users/talhindi/Documents/claim_detection_wm/claim_features/train/\n",
      "test dir:  /Users/talhindi/Documents/claim_detection_wm/claim_features/test/\n",
      "\n",
      "Reading the following features: \n",
      "['structural_position', 'structural_position_sent', 'structural_punc']\n",
      "\n",
      "Building  CRF model\n",
      "CRF(algorithm='lbfgs', all_possible_states=None, all_possible_transitions=True,\n",
      "    averaging=None, c=None, c1=0.1, c2=0.1, calibration_candidates=None,\n",
      "    calibration_eta=None, calibration_max_trials=None, calibration_rate=None,\n",
      "    calibration_samples=None, delta=None, epsilon=None, error_sensitive=None,\n",
      "    gamma=None, keep_tempfiles=None, linesearch=None, max_iterations=100,\n",
      "    max_linesearch=None, min_freq=None, model_filename=None, num_memories=None,\n",
      "    pa_type=None, period=None, trainer_cls=None, variance=None, verbose=False)\n",
      "\n",
      "Training Model...\n",
      "\n",
      "Predictions on the test set\n",
      "Macro F1:  0.4134290053439565\n",
      "\n",
      "classification report:\n",
      "              precision    recall  f1-score   support\n",
      "\n",
      "         0.0      0.809     0.966     0.881     23470\n",
      "         1.0      0.356     0.068     0.114       457\n",
      "         2.0      0.546     0.158     0.245      5888\n",
      "\n",
      "    accuracy                          0.793     29815\n",
      "   macro avg      0.571     0.397     0.413     29815\n",
      "weighted avg      0.750     0.793     0.744     29815\n",
      "\n",
      "              precision    recall  f1-score   support\n",
      "\n",
      "         0.0      0.809     0.966     0.881     23470\n",
      "         1.0      0.356     0.068     0.114       457\n",
      "         2.0      0.546     0.158     0.245      5888\n",
      "\n",
      "    accuracy                          0.793     29815\n",
      "   macro avg      0.571     0.397     0.413     29815\n",
      "weighted avg      0.750     0.793     0.744     29815\n",
      "\n"
     ]
    }
   ],
   "source": [
    "run_crf_expriments([\"structural_position\", \"structural_position_sent\", \"structural_punc\"],\n",
    "                   train_test_directories=['/Users/talhindi/Documents/claim_detection_wm/claim_features/train/',\n",
    "                                          '/Users/talhindi/Documents/claim_detection_wm/claim_features/test/'])"
   ]
  },
  {
   "cell_type": "markdown",
   "metadata": {},
   "source": [
    "## Claim-only Experiments: Syntactic"
   ]
  },
  {
   "cell_type": "code",
   "execution_count": 14,
   "metadata": {
    "scrolled": true
   },
   "outputs": [
    {
     "name": "stdout",
     "output_type": "stream",
     "text": [
      "train dir:  /Users/talhindi/Documents/claim_detection_wm/claim_features/train/\n",
      "test dir:  /Users/talhindi/Documents/claim_detection_wm/claim_features/test/\n",
      "\n",
      "Reading the following features: \n",
      "['syntactic_LCA_bin']\n",
      "\n",
      "Building  CRF model\n",
      "CRF(algorithm='lbfgs', all_possible_states=None, all_possible_transitions=True,\n",
      "    averaging=None, c=None, c1=0.1, c2=0.1, calibration_candidates=None,\n",
      "    calibration_eta=None, calibration_max_trials=None, calibration_rate=None,\n",
      "    calibration_samples=None, delta=None, epsilon=None, error_sensitive=None,\n",
      "    gamma=None, keep_tempfiles=None, linesearch=None, max_iterations=100,\n",
      "    max_linesearch=None, min_freq=None, model_filename=None, num_memories=None,\n",
      "    pa_type=None, period=None, trainer_cls=None, variance=None, verbose=False)\n",
      "\n",
      "Training Model...\n",
      "\n",
      "Predictions on the test set\n",
      "Macro F1:  0.30390698350710527\n",
      "\n",
      "classification report:\n",
      "              precision    recall  f1-score   support\n",
      "\n",
      "         0.0      0.788     0.989     0.877     23470\n",
      "         1.0      0.000     0.000     0.000       457\n",
      "         2.0      0.293     0.018     0.035      5888\n",
      "\n",
      "    accuracy                          0.782     29815\n",
      "   macro avg      0.360     0.336     0.304     29815\n",
      "weighted avg      0.678     0.782     0.697     29815\n",
      "\n",
      "              precision    recall  f1-score   support\n",
      "\n",
      "         0.0      0.788     0.989     0.877     23470\n",
      "         1.0      0.000     0.000     0.000       457\n",
      "         2.0      0.293     0.018     0.035      5888\n",
      "\n",
      "    accuracy                          0.782     29815\n",
      "   macro avg      0.360     0.336     0.304     29815\n",
      "weighted avg      0.678     0.782     0.697     29815\n",
      "\n"
     ]
    }
   ],
   "source": [
    "run_crf_expriments([\"syntactic_LCA_bin\"],\n",
    "                   train_test_directories=['/Users/talhindi/Documents/claim_detection_wm/claim_features/train/',\n",
    "                                          '/Users/talhindi/Documents/claim_detection_wm/claim_features/test/'])"
   ]
  },
  {
   "cell_type": "code",
   "execution_count": 15,
   "metadata": {
    "scrolled": true
   },
   "outputs": [
    {
     "name": "stdout",
     "output_type": "stream",
     "text": [
      "train dir:  /Users/talhindi/Documents/claim_detection_wm/claim_features/train/\n",
      "test dir:  /Users/talhindi/Documents/claim_detection_wm/claim_features/test/\n",
      "\n",
      "Reading the following features: \n",
      "['syntactic_POS']\n",
      "\n",
      "Building  CRF model\n",
      "CRF(algorithm='lbfgs', all_possible_states=None, all_possible_transitions=True,\n",
      "    averaging=None, c=None, c1=0.1, c2=0.1, calibration_candidates=None,\n",
      "    calibration_eta=None, calibration_max_trials=None, calibration_rate=None,\n",
      "    calibration_samples=None, delta=None, epsilon=None, error_sensitive=None,\n",
      "    gamma=None, keep_tempfiles=None, linesearch=None, max_iterations=100,\n",
      "    max_linesearch=None, min_freq=None, model_filename=None, num_memories=None,\n",
      "    pa_type=None, period=None, trainer_cls=None, variance=None, verbose=False)\n",
      "\n",
      "Training Model...\n",
      "\n",
      "Predictions on the test set\n",
      "Macro F1:  0.31482970227275936\n",
      "\n",
      "classification report:\n",
      "              precision    recall  f1-score   support\n",
      "\n",
      "         0.0      0.788     0.966     0.868     23470\n",
      "         1.0      0.100     0.004     0.008       457\n",
      "         2.0      0.229     0.040     0.068      5888\n",
      "\n",
      "    accuracy                          0.768     29815\n",
      "   macro avg      0.372     0.337     0.315     29815\n",
      "weighted avg      0.667     0.768     0.697     29815\n",
      "\n",
      "              precision    recall  f1-score   support\n",
      "\n",
      "         0.0      0.788     0.966     0.868     23470\n",
      "         1.0      0.100     0.004     0.008       457\n",
      "         2.0      0.229     0.040     0.068      5888\n",
      "\n",
      "    accuracy                          0.768     29815\n",
      "   macro avg      0.372     0.337     0.315     29815\n",
      "weighted avg      0.667     0.768     0.697     29815\n",
      "\n"
     ]
    }
   ],
   "source": [
    "run_crf_expriments([\"syntactic_POS\"],\n",
    "                   train_test_directories=['/Users/talhindi/Documents/claim_detection_wm/claim_features/train/',\n",
    "                                          '/Users/talhindi/Documents/claim_detection_wm/claim_features/test/'])"
   ]
  },
  {
   "cell_type": "code",
   "execution_count": 16,
   "metadata": {
    "scrolled": true
   },
   "outputs": [
    {
     "name": "stdout",
     "output_type": "stream",
     "text": [
      "train dir:  /Users/talhindi/Documents/claim_detection_wm/claim_features/train/\n",
      "test dir:  /Users/talhindi/Documents/claim_detection_wm/claim_features/test/\n",
      "\n",
      "Reading the following features: \n",
      "['syntactic_LCA_type']\n",
      "\n",
      "Building  CRF model\n",
      "CRF(algorithm='lbfgs', all_possible_states=None, all_possible_transitions=True,\n",
      "    averaging=None, c=None, c1=0.1, c2=0.1, calibration_candidates=None,\n",
      "    calibration_eta=None, calibration_max_trials=None, calibration_rate=None,\n",
      "    calibration_samples=None, delta=None, epsilon=None, error_sensitive=None,\n",
      "    gamma=None, keep_tempfiles=None, linesearch=None, max_iterations=100,\n",
      "    max_linesearch=None, min_freq=None, model_filename=None, num_memories=None,\n",
      "    pa_type=None, period=None, trainer_cls=None, variance=None, verbose=False)\n",
      "\n",
      "Training Model...\n",
      "\n",
      "Predictions on the test set\n",
      "Macro F1:  0.34211133365596685\n",
      "\n",
      "classification report:\n",
      "              precision    recall  f1-score   support\n",
      "\n",
      "         0.0      0.788     0.955     0.864     23470\n",
      "         1.0      0.296     0.046     0.080       457\n",
      "         2.0      0.228     0.051     0.083      5888\n",
      "\n",
      "    accuracy                          0.762     29815\n",
      "   macro avg      0.437     0.351     0.342     29815\n",
      "weighted avg      0.670     0.762     0.697     29815\n",
      "\n",
      "              precision    recall  f1-score   support\n",
      "\n",
      "         0.0      0.788     0.955     0.864     23470\n",
      "         1.0      0.296     0.046     0.080       457\n",
      "         2.0      0.228     0.051     0.083      5888\n",
      "\n",
      "    accuracy                          0.762     29815\n",
      "   macro avg      0.437     0.351     0.342     29815\n",
      "weighted avg      0.670     0.762     0.697     29815\n",
      "\n"
     ]
    }
   ],
   "source": [
    "run_crf_expriments([\"syntactic_LCA_type\"],\n",
    "                   train_test_directories=['/Users/talhindi/Documents/claim_detection_wm/claim_features/train/',\n",
    "                                          '/Users/talhindi/Documents/claim_detection_wm/claim_features/test/'])"
   ]
  },
  {
   "cell_type": "code",
   "execution_count": 17,
   "metadata": {
    "scrolled": true
   },
   "outputs": [
    {
     "name": "stdout",
     "output_type": "stream",
     "text": [
      "train dir:  /Users/talhindi/Documents/claim_detection_wm/claim_features/train/\n",
      "test dir:  /Users/talhindi/Documents/claim_detection_wm/claim_features/test/\n",
      "\n",
      "Reading the following features: \n",
      "['syntactic_LCA_bin', 'syntactic_POS', 'syntactic_LCA_type']\n",
      "\n",
      "Building  CRF model\n",
      "CRF(algorithm='lbfgs', all_possible_states=None, all_possible_transitions=True,\n",
      "    averaging=None, c=None, c1=0.1, c2=0.1, calibration_candidates=None,\n",
      "    calibration_eta=None, calibration_max_trials=None, calibration_rate=None,\n",
      "    calibration_samples=None, delta=None, epsilon=None, error_sensitive=None,\n",
      "    gamma=None, keep_tempfiles=None, linesearch=None, max_iterations=100,\n",
      "    max_linesearch=None, min_freq=None, model_filename=None, num_memories=None,\n",
      "    pa_type=None, period=None, trainer_cls=None, variance=None, verbose=False)\n",
      "\n",
      "Training Model...\n",
      "\n",
      "Predictions on the test set\n",
      "Macro F1:  0.3799836482576798\n",
      "\n",
      "classification report:\n",
      "              precision    recall  f1-score   support\n",
      "\n",
      "         0.0      0.795     0.930     0.857     23470\n",
      "         1.0      0.311     0.072     0.117       457\n",
      "         2.0      0.298     0.115     0.166      5888\n",
      "\n",
      "    accuracy                          0.756     29815\n",
      "   macro avg      0.468     0.372     0.380     29815\n",
      "weighted avg      0.690     0.756     0.709     29815\n",
      "\n",
      "              precision    recall  f1-score   support\n",
      "\n",
      "         0.0      0.795     0.930     0.857     23470\n",
      "         1.0      0.311     0.072     0.117       457\n",
      "         2.0      0.298     0.115     0.166      5888\n",
      "\n",
      "    accuracy                          0.756     29815\n",
      "   macro avg      0.468     0.372     0.380     29815\n",
      "weighted avg      0.690     0.756     0.709     29815\n",
      "\n"
     ]
    }
   ],
   "source": [
    "run_crf_expriments([\"syntactic_LCA_bin\", \"syntactic_POS\", \"syntactic_LCA_type\"],\n",
    "                   train_test_directories=['/Users/talhindi/Documents/claim_detection_wm/claim_features/train/',\n",
    "                                          '/Users/talhindi/Documents/claim_detection_wm/claim_features/test/'])"
   ]
  },
  {
   "cell_type": "markdown",
   "metadata": {},
   "source": [
    "## Claim-only Experiments: LexSyn"
   ]
  },
  {
   "cell_type": "code",
   "execution_count": 7,
   "metadata": {
    "scrolled": true
   },
   "outputs": [
    {
     "name": "stdout",
     "output_type": "stream",
     "text": [
      "train dir:  /Users/talhindi/Documents/claim_detection_wm/claim_features/train/\n",
      "test dir:  /Users/talhindi/Documents/claim_detection_wm/claim_features/test/\n",
      "\n",
      "Reading the following features: \n",
      "['lexsyn_1hop']\n",
      "\n",
      "Building  CRF model\n",
      "CRF(algorithm='lbfgs', all_possible_states=None, all_possible_transitions=True,\n",
      "    averaging=None, c=None, c1=0.1, c2=0.1, calibration_candidates=None,\n",
      "    calibration_eta=None, calibration_max_trials=None, calibration_rate=None,\n",
      "    calibration_samples=None, delta=None, epsilon=None, error_sensitive=None,\n",
      "    gamma=None, keep_tempfiles=None, linesearch=None, max_iterations=100,\n",
      "    max_linesearch=None, min_freq=None, model_filename=None, num_memories=None,\n",
      "    pa_type=None, period=None, trainer_cls=None, variance=None, verbose=False)\n",
      "\n",
      "Training Model...\n"
     ]
    },
    {
     "name": "stderr",
     "output_type": "stream",
     "text": [
      "/Users/talhindi/miniconda3/lib/python3.7/site-packages/sklearn/base.py:197: FutureWarning: From version 0.24, get_params will raise an AttributeError if a parameter cannot be retrieved as an instance attribute. Previously it would return None.\n",
      "  FutureWarning)\n"
     ]
    },
    {
     "name": "stdout",
     "output_type": "stream",
     "text": [
      "\n",
      "Predictions on the test set\n",
      "Macro F1:  0.5375267378485489\n",
      "\n",
      "classification report:\n",
      "              precision    recall  f1-score   support\n",
      "\n",
      "         0.0      0.833     0.899     0.865     23470\n",
      "         1.0      0.457     0.293     0.357       457\n",
      "         2.0      0.468     0.335     0.391      5888\n",
      "\n",
      "    accuracy                          0.778     29815\n",
      "   macro avg      0.586     0.509     0.538     29815\n",
      "weighted avg      0.755     0.778     0.763     29815\n",
      "\n",
      "              precision    recall  f1-score   support\n",
      "\n",
      "         0.0      0.833     0.899     0.865     23470\n",
      "         1.0      0.457     0.293     0.357       457\n",
      "         2.0      0.468     0.335     0.391      5888\n",
      "\n",
      "    accuracy                          0.778     29815\n",
      "   macro avg      0.586     0.509     0.538     29815\n",
      "weighted avg      0.755     0.778     0.763     29815\n",
      "\n"
     ]
    }
   ],
   "source": [
    "run_crf_expriments([\"lexsyn_1hop\"],\n",
    "                   train_test_directories=['/Users/talhindi/Documents/claim_detection_wm/claim_features/train/',\n",
    "                                          '/Users/talhindi/Documents/claim_detection_wm/claim_features/test/'])"
   ]
  },
  {
   "cell_type": "code",
   "execution_count": 8,
   "metadata": {
    "scrolled": true
   },
   "outputs": [
    {
     "name": "stdout",
     "output_type": "stream",
     "text": [
      "train dir:  /Users/talhindi/Documents/claim_detection_wm/claim_features/train/\n",
      "test dir:  /Users/talhindi/Documents/claim_detection_wm/claim_features/test/\n",
      "\n",
      "Reading the following features: \n",
      "['lexsyn_2hops']\n",
      "\n",
      "Building  CRF model\n",
      "CRF(algorithm='lbfgs', all_possible_states=None, all_possible_transitions=True,\n",
      "    averaging=None, c=None, c1=0.1, c2=0.1, calibration_candidates=None,\n",
      "    calibration_eta=None, calibration_max_trials=None, calibration_rate=None,\n",
      "    calibration_samples=None, delta=None, epsilon=None, error_sensitive=None,\n",
      "    gamma=None, keep_tempfiles=None, linesearch=None, max_iterations=100,\n",
      "    max_linesearch=None, min_freq=None, model_filename=None, num_memories=None,\n",
      "    pa_type=None, period=None, trainer_cls=None, variance=None, verbose=False)\n",
      "\n",
      "Training Model...\n",
      "\n",
      "Predictions on the test set\n",
      "Macro F1:  0.49812287113819925\n",
      "\n",
      "classification report:\n",
      "              precision    recall  f1-score   support\n",
      "\n",
      "         0.0      0.820     0.907     0.862     23470\n",
      "         1.0      0.414     0.241     0.304       457\n",
      "         2.0      0.433     0.264     0.328      5888\n",
      "\n",
      "    accuracy                          0.770     29815\n",
      "   macro avg      0.556     0.471     0.498     29815\n",
      "weighted avg      0.738     0.770     0.748     29815\n",
      "\n",
      "              precision    recall  f1-score   support\n",
      "\n",
      "         0.0      0.820     0.907     0.862     23470\n",
      "         1.0      0.414     0.241     0.304       457\n",
      "         2.0      0.433     0.264     0.328      5888\n",
      "\n",
      "    accuracy                          0.770     29815\n",
      "   macro avg      0.556     0.471     0.498     29815\n",
      "weighted avg      0.738     0.770     0.748     29815\n",
      "\n"
     ]
    }
   ],
   "source": [
    "run_crf_expriments([\"lexsyn_2hops\"],\n",
    "                   train_test_directories=['/Users/talhindi/Documents/claim_detection_wm/claim_features/train/',\n",
    "                                          '/Users/talhindi/Documents/claim_detection_wm/claim_features/test/'])"
   ]
  },
  {
   "cell_type": "markdown",
   "metadata": {},
   "source": [
    "## Claim-only Experiment: All features"
   ]
  },
  {
   "cell_type": "code",
   "execution_count": 9,
   "metadata": {
    "scrolled": true
   },
   "outputs": [
    {
     "name": "stdout",
     "output_type": "stream",
     "text": [
      "train dir:  /Users/talhindi/Documents/claim_detection_wm/claim_features/train/\n",
      "test dir:  /Users/talhindi/Documents/claim_detection_wm/claim_features/test/\n",
      "\n",
      "Reading the following features: \n",
      "['structural_position', 'structural_position_sent', 'structural_punc', 'syntactic_LCA_bin', 'syntactic_POS', 'syntactic_LCA_type', 'lexsyn_1hop']\n",
      "\n",
      "Building  CRF model\n",
      "CRF(algorithm='lbfgs', all_possible_states=None, all_possible_transitions=True,\n",
      "    averaging=None, c=None, c1=0.1, c2=0.1, calibration_candidates=None,\n",
      "    calibration_eta=None, calibration_max_trials=None, calibration_rate=None,\n",
      "    calibration_samples=None, delta=None, epsilon=None, error_sensitive=None,\n",
      "    gamma=None, keep_tempfiles=None, linesearch=None, max_iterations=100,\n",
      "    max_linesearch=None, min_freq=None, model_filename=None, num_memories=None,\n",
      "    pa_type=None, period=None, trainer_cls=None, variance=None, verbose=False)\n",
      "\n",
      "Training Model...\n",
      "\n",
      "Predictions on the test set\n",
      "Macro F1:  0.5732142518124882\n",
      "\n",
      "classification report:\n",
      "              precision    recall  f1-score   support\n",
      "\n",
      "         0.0      0.847     0.900     0.873     23470\n",
      "         1.0      0.494     0.333     0.397       457\n",
      "         2.0      0.514     0.399     0.449      5888\n",
      "\n",
      "    accuracy                          0.793     29815\n",
      "   macro avg      0.618     0.544     0.573     29815\n",
      "weighted avg      0.776     0.793     0.782     29815\n",
      "\n",
      "              precision    recall  f1-score   support\n",
      "\n",
      "         0.0      0.847     0.900     0.873     23470\n",
      "         1.0      0.494     0.333     0.397       457\n",
      "         2.0      0.514     0.399     0.449      5888\n",
      "\n",
      "    accuracy                          0.793     29815\n",
      "   macro avg      0.618     0.544     0.573     29815\n",
      "weighted avg      0.776     0.793     0.782     29815\n",
      "\n"
     ]
    }
   ],
   "source": [
    "run_crf_expriments([\"structural_position\", \"structural_position_sent\", \"structural_punc\",\n",
    "                    \"syntactic_LCA_bin\", \"syntactic_POS\", \"syntactic_LCA_type\", \"lexsyn_1hop\"],\n",
    "                   train_test_directories=['/Users/talhindi/Documents/claim_detection_wm/claim_features/train/',\n",
    "                                          '/Users/talhindi/Documents/claim_detection_wm/claim_features/test/'])"
   ]
  },
  {
   "cell_type": "markdown",
   "metadata": {},
   "source": [
    "# Arg Experiments"
   ]
  },
  {
   "cell_type": "code",
   "execution_count": 10,
   "metadata": {},
   "outputs": [
    {
     "name": "stdout",
     "output_type": "stream",
     "text": [
      "train dir:  /Users/talhindi/Documents/claim_detection_wm/features/train/\n",
      "test dir:  /Users/talhindi/Documents/claim_detection_wm/features/test/\n",
      "\n",
      "Reading the following features: \n",
      "['probability']\n",
      "\n",
      "Building  CRF model\n",
      "CRF(algorithm='lbfgs', all_possible_states=None, all_possible_transitions=True,\n",
      "    averaging=None, c=None, c1=0.1, c2=0.1, calibration_candidates=None,\n",
      "    calibration_eta=None, calibration_max_trials=None, calibration_rate=None,\n",
      "    calibration_samples=None, delta=None, epsilon=None, error_sensitive=None,\n",
      "    gamma=None, keep_tempfiles=None, linesearch=None, max_iterations=100,\n",
      "    max_linesearch=None, min_freq=None, model_filename=None, num_memories=None,\n",
      "    pa_type=None, period=None, trainer_cls=None, variance=None, verbose=False)\n",
      "\n",
      "Training Model...\n"
     ]
    },
    {
     "name": "stderr",
     "output_type": "stream",
     "text": [
      "/Users/talhindi/miniconda3/lib/python3.7/site-packages/sklearn/base.py:197: FutureWarning: From version 0.24, get_params will raise an AttributeError if a parameter cannot be retrieved as an instance attribute. Previously it would return None.\n",
      "  FutureWarning)\n"
     ]
    },
    {
     "name": "stdout",
     "output_type": "stream",
     "text": [
      "\n",
      "Predictions on the test set\n",
      "Macro F1:  0.257375451313098\n",
      "\n",
      "classification report:\n",
      "              precision    recall  f1-score   support\n",
      "\n",
      "         0.0      0.000     0.000     0.000      9801\n",
      "         1.0      0.000     0.000     0.000      1266\n",
      "         2.0      0.629     1.000     0.772     18748\n",
      "\n",
      "    accuracy                          0.629     29815\n",
      "   macro avg      0.210     0.333     0.257     29815\n",
      "weighted avg      0.395     0.629     0.486     29815\n",
      "\n"
     ]
    },
    {
     "name": "stderr",
     "output_type": "stream",
     "text": [
      "/Users/talhindi/miniconda3/lib/python3.7/site-packages/sklearn/metrics/_classification.py:1272: UndefinedMetricWarning: Precision and F-score are ill-defined and being set to 0.0 in labels with no predicted samples. Use `zero_division` parameter to control this behavior.\n",
      "  _warn_prf(average, modifier, msg_start, len(result))\n"
     ]
    }
   ],
   "source": [
    "run_crf_expriments(['probability'],\n",
    "                   train_test_directories=['/Users/talhindi/Documents/claim_detection_wm/features/train/',\n",
    "                                          '/Users/talhindi/Documents/claim_detection_wm/features/test/'])"
   ]
  },
  {
   "cell_type": "code",
   "execution_count": 21,
   "metadata": {},
   "outputs": [
    {
     "name": "stdout",
     "output_type": "stream",
     "text": [
      "train dir:  ../features/SG2017_train/\n",
      "test dir:  ../features/SG2017_test/\n",
      "\n",
      "Reading the following features: \n",
      "['position', 'punc', 'position_sent']\n",
      "\n",
      "Building  CRF model\n",
      "CRF(algorithm='lbfgs', all_possible_states=None, all_possible_transitions=True,\n",
      "    averaging=None, c=None, c1=0.1, c2=0.1, calibration_candidates=None,\n",
      "    calibration_eta=None, calibration_max_trials=None, calibration_rate=None,\n",
      "    calibration_samples=None, delta=None, epsilon=None, error_sensitive=None,\n",
      "    gamma=None, keep_tempfiles=None, linesearch=None, max_iterations=100,\n",
      "    max_linesearch=None, min_freq=None, model_filename=None, num_memories=None,\n",
      "    pa_type=None, period=None, trainer_cls=None, variance=None, verbose=False)\n",
      "\n",
      "Training Model...\n",
      "\n",
      "Predictions on the test set\n",
      "Macro F1:  0.7379007614294025\n",
      "\n",
      "classification report:\n",
      "              precision    recall  f1-score   support\n",
      "\n",
      "         0.0      0.813     0.642     0.718      9801\n",
      "         1.0      0.642     0.598     0.619      1266\n",
      "         2.0      0.832     0.927     0.877     18748\n",
      "\n",
      "    accuracy                          0.820     29815\n",
      "   macro avg      0.762     0.723     0.738     29815\n",
      "weighted avg      0.818     0.820     0.814     29815\n",
      "\n"
     ]
    }
   ],
   "source": [
    "# structural features\n",
    "run_crf_expriments(['position', 'punc', 'position_sent'])"
   ]
  },
  {
   "cell_type": "code",
   "execution_count": 17,
   "metadata": {},
   "outputs": [
    {
     "name": "stdout",
     "output_type": "stream",
     "text": [
      "train dir:  ../features/SG2017_train/\n",
      "test dir:  ../features/SG2017_test/\n",
      "\n",
      "Reading the following features: \n",
      "['POS', 'LCA_bin', 'LCA_type']\n",
      "\n",
      "Building  CRF model\n",
      "CRF(algorithm='lbfgs', all_possible_states=None, all_possible_transitions=True,\n",
      "    averaging=None, c=None, c1=0.1, c2=0.1, calibration_candidates=None,\n",
      "    calibration_eta=None, calibration_max_trials=None, calibration_rate=None,\n",
      "    calibration_samples=None, delta=None, epsilon=None, error_sensitive=None,\n",
      "    gamma=None, keep_tempfiles=None, linesearch=None, max_iterations=100,\n",
      "    max_linesearch=None, min_freq=None, model_filename=None, num_memories=None,\n",
      "    pa_type=None, period=None, trainer_cls=None, variance=None, verbose=False)\n",
      "\n",
      "Training Model...\n",
      "\n",
      "Predictions on the test set\n",
      "Macro F1:  0.6747796409086603\n",
      "\n",
      "classification report:\n",
      "              precision    recall  f1-score   support\n",
      "\n",
      "         0.0      0.630     0.623     0.627      9801\n",
      "         1.0      0.638     0.535     0.582      1266\n",
      "         2.0      0.809     0.823     0.816     18748\n",
      "\n",
      "    accuracy                          0.745     29815\n",
      "   macro avg      0.692     0.660     0.675     29815\n",
      "weighted avg      0.743     0.745     0.744     29815\n",
      "\n"
     ]
    }
   ],
   "source": [
    "# syntactic features\n",
    "run_crf_expriments(['POS', 'LCA_bin', 'LCA_type'])"
   ]
  },
  {
   "cell_type": "code",
   "execution_count": 18,
   "metadata": {},
   "outputs": [
    {
     "name": "stdout",
     "output_type": "stream",
     "text": [
      "train dir:  ../features/SG2017_train/\n",
      "test dir:  ../features/SG2017_test/\n",
      "\n",
      "Reading the following features: \n",
      "['position', 'punc', 'position_sent', 'POS', 'LCA_bin', 'LCA_type']\n",
      "\n",
      "Building  CRF model\n",
      "CRF(algorithm='lbfgs', all_possible_states=None, all_possible_transitions=True,\n",
      "    averaging=None, c=None, c1=0.1, c2=0.1, calibration_candidates=None,\n",
      "    calibration_eta=None, calibration_max_trials=None, calibration_rate=None,\n",
      "    calibration_samples=None, delta=None, epsilon=None, error_sensitive=None,\n",
      "    gamma=None, keep_tempfiles=None, linesearch=None, max_iterations=100,\n",
      "    max_linesearch=None, min_freq=None, model_filename=None, num_memories=None,\n",
      "    pa_type=None, period=None, trainer_cls=None, variance=None, verbose=False)\n",
      "\n",
      "Training Model...\n",
      "\n",
      "Predictions on the test set\n",
      "Macro F1:  0.7601211693498886\n",
      "\n",
      "classification report:\n",
      "              precision    recall  f1-score   support\n",
      "\n",
      "         0.0      0.743     0.741     0.742      9801\n",
      "         1.0      0.707     0.635     0.669      1266\n",
      "         2.0      0.866     0.873     0.870     18748\n",
      "\n",
      "    accuracy                          0.820     29815\n",
      "   macro avg      0.772     0.750     0.760     29815\n",
      "weighted avg      0.819     0.820     0.819     29815\n",
      "\n"
     ]
    }
   ],
   "source": [
    "# structural + syntactic features\n",
    "run_crf_expriments(['position', 'punc', 'position_sent', 'POS', 'LCA_bin', 'LCA_type'])"
   ]
  },
  {
   "cell_type": "code",
   "execution_count": 23,
   "metadata": {},
   "outputs": [
    {
     "name": "stdout",
     "output_type": "stream",
     "text": [
      "train dir:  ../features/SG2017_train/\n",
      "test dir:  ../features/SG2017_test/\n",
      "\n",
      "Reading the following features: \n",
      "['LexSyn']\n",
      "\n",
      "Building  CRF model\n",
      "CRF(algorithm='lbfgs', all_possible_states=None, all_possible_transitions=True,\n",
      "    averaging=None, c=None, c1=0.1, c2=0.1, calibration_candidates=None,\n",
      "    calibration_eta=None, calibration_max_trials=None, calibration_rate=None,\n",
      "    calibration_samples=None, delta=None, epsilon=None, error_sensitive=None,\n",
      "    gamma=None, keep_tempfiles=None, linesearch=None, max_iterations=100,\n",
      "    max_linesearch=None, min_freq=None, model_filename=None, num_memories=None,\n",
      "    pa_type=None, period=None, trainer_cls=None, variance=None, verbose=False)\n",
      "\n",
      "Training Model...\n",
      "\n",
      "Predictions on the test set\n",
      "Macro F1:  0.7063305796204723\n",
      "\n",
      "classification report:\n",
      "              precision    recall  f1-score   support\n",
      "\n",
      "         0.0      0.751     0.588     0.659      9801\n",
      "         1.0      0.622     0.588     0.605      1266\n",
      "         2.0      0.810     0.905     0.855     18748\n",
      "\n",
      "    accuracy                          0.787     29815\n",
      "   macro avg      0.728     0.694     0.706     29815\n",
      "weighted avg      0.782     0.787     0.780     29815\n",
      "\n"
     ]
    }
   ],
   "source": [
    "# lexsyn... mistake.. only dep relation, no lexical info\n",
    "run_crf_expriments(['LexSyn'])"
   ]
  },
  {
   "cell_type": "code",
   "execution_count": 24,
   "metadata": {},
   "outputs": [
    {
     "name": "stdout",
     "output_type": "stream",
     "text": [
      "train dir:  ../features/SG2017_train/\n",
      "test dir:  ../features/SG2017_test/\n",
      "\n",
      "Reading the following features: \n",
      "['LexSyn_1hop']\n",
      "\n",
      "Building  CRF model\n",
      "CRF(algorithm='lbfgs', all_possible_states=None, all_possible_transitions=True,\n",
      "    averaging=None, c=None, c1=0.1, c2=0.1, calibration_candidates=None,\n",
      "    calibration_eta=None, calibration_max_trials=None, calibration_rate=None,\n",
      "    calibration_samples=None, delta=None, epsilon=None, error_sensitive=None,\n",
      "    gamma=None, keep_tempfiles=None, linesearch=None, max_iterations=100,\n",
      "    max_linesearch=None, min_freq=None, model_filename=None, num_memories=None,\n",
      "    pa_type=None, period=None, trainer_cls=None, variance=None, verbose=False)\n",
      "\n",
      "Training Model...\n",
      "\n",
      "Predictions on the test set\n",
      "Macro F1:  0.7168117709637286\n",
      "\n",
      "classification report:\n",
      "              precision    recall  f1-score   support\n",
      "\n",
      "         0.0      0.760     0.587     0.662      9801\n",
      "         1.0      0.644     0.619     0.631      1266\n",
      "         2.0      0.810     0.909     0.857     18748\n",
      "\n",
      "    accuracy                          0.791     29815\n",
      "   macro avg      0.738     0.705     0.717     29815\n",
      "weighted avg      0.787     0.791     0.783     29815\n",
      "\n"
     ]
    }
   ],
   "source": [
    "# lexsyn 1hop, same as above, sanity check... hmmm, slightly better!\n",
    "run_crf_expriments(['LexSyn_1hop'])"
   ]
  },
  {
   "cell_type": "code",
   "execution_count": 26,
   "metadata": {},
   "outputs": [
    {
     "name": "stdout",
     "output_type": "stream",
     "text": [
      "train dir:  ../features/SG2017_train/\n",
      "test dir:  ../features/SG2017_test/\n",
      "\n",
      "Reading the following features: \n",
      "['LexSyn_1hop']\n",
      "\n",
      "Building  CRF model\n",
      "CRF(algorithm='lbfgs', all_possible_states=None, all_possible_transitions=True,\n",
      "    averaging=None, c=None, c1=0.1, c2=0.1, calibration_candidates=None,\n",
      "    calibration_eta=None, calibration_max_trials=None, calibration_rate=None,\n",
      "    calibration_samples=None, delta=None, epsilon=None, error_sensitive=None,\n",
      "    gamma=None, keep_tempfiles=None, linesearch=None, max_iterations=100,\n",
      "    max_linesearch=None, min_freq=None, model_filename=None, num_memories=None,\n",
      "    pa_type=None, period=None, trainer_cls=None, variance=None, verbose=False)\n",
      "\n",
      "Training Model...\n",
      "\n",
      "Predictions on the test set\n",
      "Macro F1:  0.7971826180542054\n",
      "\n",
      "classification report:\n",
      "              precision    recall  f1-score   support\n",
      "\n",
      "         0.0      0.795     0.698     0.743      9801\n",
      "         1.0      0.763     0.768     0.765      1266\n",
      "         2.0      0.857     0.911     0.883     18748\n",
      "\n",
      "    accuracy                          0.835     29815\n",
      "   macro avg      0.805     0.792     0.797     29815\n",
      "weighted avg      0.832     0.835     0.832     29815\n",
      "\n"
     ]
    }
   ],
   "source": [
    "# lexsyn 1hop, with word\n",
    "run_crf_expriments(['LexSyn_1hop'])"
   ]
  },
  {
   "cell_type": "code",
   "execution_count": 27,
   "metadata": {},
   "outputs": [
    {
     "name": "stdout",
     "output_type": "stream",
     "text": [
      "train dir:  ../features/SG2017_train/\n",
      "test dir:  ../features/SG2017_test/\n",
      "\n",
      "Reading the following features: \n",
      "['LexSyn_2hops']\n",
      "\n",
      "Building  CRF model\n",
      "CRF(algorithm='lbfgs', all_possible_states=None, all_possible_transitions=True,\n",
      "    averaging=None, c=None, c1=0.1, c2=0.1, calibration_candidates=None,\n",
      "    calibration_eta=None, calibration_max_trials=None, calibration_rate=None,\n",
      "    calibration_samples=None, delta=None, epsilon=None, error_sensitive=None,\n",
      "    gamma=None, keep_tempfiles=None, linesearch=None, max_iterations=100,\n",
      "    max_linesearch=None, min_freq=None, model_filename=None, num_memories=None,\n",
      "    pa_type=None, period=None, trainer_cls=None, variance=None, verbose=False)\n",
      "\n",
      "Training Model...\n",
      "\n",
      "Predictions on the test set\n",
      "Macro F1:  0.7886071128590383\n",
      "\n",
      "classification report:\n",
      "              precision    recall  f1-score   support\n",
      "\n",
      "         0.0      0.772     0.692     0.730      9801\n",
      "         1.0      0.759     0.762     0.761      1266\n",
      "         2.0      0.853     0.899     0.875     18748\n",
      "\n",
      "    accuracy                          0.825     29815\n",
      "   macro avg      0.795     0.784     0.789     29815\n",
      "weighted avg      0.822     0.825     0.823     29815\n",
      "\n"
     ]
    }
   ],
   "source": [
    "# lexsyn 2hops, with word\n",
    "\n",
    "run_crf_expriments(['LexSyn_2hops'])"
   ]
  },
  {
   "cell_type": "code",
   "execution_count": 28,
   "metadata": {},
   "outputs": [
    {
     "name": "stdout",
     "output_type": "stream",
     "text": [
      "train dir:  ../features/SG2017_train/\n",
      "test dir:  ../features/SG2017_test/\n",
      "\n",
      "Reading the following features: \n",
      "['position', 'punc', 'position_sent', 'POS', 'LCA_bin', 'LCA_type', 'LexSyn_1hop']\n",
      "\n",
      "Building  CRF model\n",
      "CRF(algorithm='lbfgs', all_possible_states=None, all_possible_transitions=True,\n",
      "    averaging=None, c=None, c1=0.1, c2=0.1, calibration_candidates=None,\n",
      "    calibration_eta=None, calibration_max_trials=None, calibration_rate=None,\n",
      "    calibration_samples=None, delta=None, epsilon=None, error_sensitive=None,\n",
      "    gamma=None, keep_tempfiles=None, linesearch=None, max_iterations=100,\n",
      "    max_linesearch=None, min_freq=None, model_filename=None, num_memories=None,\n",
      "    pa_type=None, period=None, trainer_cls=None, variance=None, verbose=False)\n",
      "\n",
      "Training Model...\n",
      "\n",
      "Predictions on the test set\n",
      "Macro F1:  0.8183587608396903\n",
      "\n",
      "classification report:\n",
      "              precision    recall  f1-score   support\n",
      "\n",
      "         0.0      0.777     0.790     0.783      9801\n",
      "         1.0      0.806     0.758     0.781      1266\n",
      "         2.0      0.893     0.889     0.891     18748\n",
      "\n",
      "    accuracy                          0.851     29815\n",
      "   macro avg      0.825     0.812     0.818     29815\n",
      "weighted avg      0.851     0.851     0.851     29815\n",
      "\n"
     ]
    }
   ],
   "source": [
    "run_crf_expriments(['position', 'punc', 'position_sent', 'POS', 'LCA_bin', 'LCA_type','LexSyn_1hop'])"
   ]
  },
  {
   "cell_type": "code",
   "execution_count": 29,
   "metadata": {},
   "outputs": [
    {
     "name": "stdout",
     "output_type": "stream",
     "text": [
      "train dir:  ../features/SG2017_train/\n",
      "test dir:  ../features/SG2017_test/\n",
      "\n",
      "Reading the following features: \n",
      "['position', 'punc', 'position_sent', 'LexSyn_1hop']\n",
      "\n",
      "Building  CRF model\n",
      "CRF(algorithm='lbfgs', all_possible_states=None, all_possible_transitions=True,\n",
      "    averaging=None, c=None, c1=0.1, c2=0.1, calibration_candidates=None,\n",
      "    calibration_eta=None, calibration_max_trials=None, calibration_rate=None,\n",
      "    calibration_samples=None, delta=None, epsilon=None, error_sensitive=None,\n",
      "    gamma=None, keep_tempfiles=None, linesearch=None, max_iterations=100,\n",
      "    max_linesearch=None, min_freq=None, model_filename=None, num_memories=None,\n",
      "    pa_type=None, period=None, trainer_cls=None, variance=None, verbose=False)\n",
      "\n",
      "Training Model...\n",
      "\n",
      "Predictions on the test set\n",
      "Macro F1:  0.8186417498379485\n",
      "\n",
      "classification report:\n",
      "              precision    recall  f1-score   support\n",
      "\n",
      "         0.0      0.788     0.773     0.780      9801\n",
      "         1.0      0.810     0.759     0.784      1266\n",
      "         2.0      0.886     0.898     0.892     18748\n",
      "\n",
      "    accuracy                          0.851     29815\n",
      "   macro avg      0.828     0.810     0.819     29815\n",
      "weighted avg      0.850     0.851     0.851     29815\n",
      "\n"
     ]
    }
   ],
   "source": [
    "run_crf_expriments(['position', 'punc', 'position_sent','LexSyn_1hop'])"
   ]
  },
  {
   "cell_type": "code",
   "execution_count": 30,
   "metadata": {},
   "outputs": [
    {
     "name": "stdout",
     "output_type": "stream",
     "text": [
      "train dir:  ../features/SG2017_train/\n",
      "test dir:  ../features/SG2017_test/\n",
      "\n",
      "Reading the following features: \n",
      "['POS', 'LCA_bin', 'LCA_type', 'LexSyn_1hop']\n",
      "\n",
      "Building  CRF model\n",
      "CRF(algorithm='lbfgs', all_possible_states=None, all_possible_transitions=True,\n",
      "    averaging=None, c=None, c1=0.1, c2=0.1, calibration_candidates=None,\n",
      "    calibration_eta=None, calibration_max_trials=None, calibration_rate=None,\n",
      "    calibration_samples=None, delta=None, epsilon=None, error_sensitive=None,\n",
      "    gamma=None, keep_tempfiles=None, linesearch=None, max_iterations=100,\n",
      "    max_linesearch=None, min_freq=None, model_filename=None, num_memories=None,\n",
      "    pa_type=None, period=None, trainer_cls=None, variance=None, verbose=False)\n",
      "\n",
      "Training Model...\n",
      "\n",
      "Predictions on the test set\n",
      "Macro F1:  0.7989099608292016\n",
      "\n",
      "classification report:\n",
      "              precision    recall  f1-score   support\n",
      "\n",
      "         0.0      0.796     0.698     0.744      9801\n",
      "         1.0      0.769     0.769     0.769      1266\n",
      "         2.0      0.857     0.912     0.884     18748\n",
      "\n",
      "    accuracy                          0.836     29815\n",
      "   macro avg      0.807     0.793     0.799     29815\n",
      "weighted avg      0.833     0.836     0.833     29815\n",
      "\n"
     ]
    }
   ],
   "source": [
    "run_crf_expriments(['POS', 'LCA_bin', 'LCA_type','LexSyn_1hop'])"
   ]
  },
  {
   "cell_type": "code",
   "execution_count": null,
   "metadata": {},
   "outputs": [],
   "source": []
  }
 ],
 "metadata": {
  "kernelspec": {
   "display_name": "Python 3",
   "language": "python",
   "name": "python3"
  },
  "language_info": {
   "codemirror_mode": {
    "name": "ipython",
    "version": 3
   },
   "file_extension": ".py",
   "mimetype": "text/x-python",
   "name": "python",
   "nbconvert_exporter": "python",
   "pygments_lexer": "ipython3",
   "version": "3.7.6"
  }
 },
 "nbformat": 4,
 "nbformat_minor": 4
}
