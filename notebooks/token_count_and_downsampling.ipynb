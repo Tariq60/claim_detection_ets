{
 "cells": [
  {
   "cell_type": "code",
   "execution_count": 20,
   "metadata": {},
   "outputs": [],
   "source": [
    "from collections import Counter\n",
    "import random"
   ]
  },
  {
   "cell_type": "markdown",
   "metadata": {},
   "source": [
    "# Downsampling"
   ]
  },
  {
   "cell_type": "code",
   "execution_count": 42,
   "metadata": {},
   "outputs": [],
   "source": [
    "train = open('../data/SG2017_claim/train.txt','r').readlines()"
   ]
  },
  {
   "cell_type": "code",
   "execution_count": 49,
   "metadata": {},
   "outputs": [
    {
     "data": {
      "text/plain": [
       "(5639, 1695, 3944)"
      ]
     },
     "execution_count": 49,
     "metadata": {},
     "output_type": "execute_result"
    }
   ],
   "source": [
    "train_claim, train_no_claim = [], []\n",
    "sent_tokens, sent_labels = [], []\n",
    "\n",
    "for line in train:\n",
    "    \n",
    "    if line == '\\n':\n",
    "        if all([label == 'O-claim' for label in sent_labels]):\n",
    "            train_no_claim.append([sent_tokens, sent_labels])\n",
    "        else:\n",
    "            train_claim.append([sent_tokens, sent_labels])\n",
    "        sent_tokens, sent_labels = [], []\n",
    "    \n",
    "    else:        \n",
    "        token, label = line.rstrip().split()\n",
    "        sent_tokens.append(token)\n",
    "        sent_labels.append(label)\n",
    "\n",
    "len(train_claim+train_no_claim), len(train_claim), len(train_no_claim)"
   ]
  },
  {
   "cell_type": "code",
   "execution_count": 50,
   "metadata": {},
   "outputs": [],
   "source": [
    "random.seed(3215)\n",
    "random.shuffle(train_no_claim)"
   ]
  },
  {
   "cell_type": "code",
   "execution_count": 51,
   "metadata": {},
   "outputs": [],
   "source": [
    "# removing 20% from no-claim sentences\n",
    "# train_no_claim = train_no_claim[789:]\n",
    "\n",
    "# equal number sentences with no_claim and claim\n",
    "train_no_claim = train_no_claim[:1695]"
   ]
  },
  {
   "cell_type": "code",
   "execution_count": 52,
   "metadata": {},
   "outputs": [
    {
     "data": {
      "text/plain": [
       "3390"
      ]
     },
     "execution_count": 52,
     "metadata": {},
     "output_type": "execute_result"
    }
   ],
   "source": [
    "train_downsampled = train_claim + train_no_claim\n",
    "random.seed(3215)\n",
    "random.shuffle(train_downsampled)\n",
    "len(train_downsampled)"
   ]
  },
  {
   "cell_type": "code",
   "execution_count": 48,
   "metadata": {},
   "outputs": [],
   "source": [
    "with open('../data/SG2017_claim_downsampled/train.txt', 'w') as writer:\n",
    "    for sent_tokens, sent_labels in train_downsampled:\n",
    "        for token, label in zip(sent_tokens, sent_labels):\n",
    "            writer.write('{} {}\\n'.format(token, label))\n",
    "        writer.write('\\n')"
   ]
  },
  {
   "cell_type": "code",
   "execution_count": 53,
   "metadata": {},
   "outputs": [],
   "source": [
    "with open('../data/SG2017_claim_balanced/train.txt', 'w') as writer:\n",
    "    for sent_tokens, sent_labels in train_downsampled:\n",
    "        for token, label in zip(sent_tokens, sent_labels):\n",
    "            writer.write('{} {}\\n'.format(token, label))\n",
    "        writer.write('\\n')"
   ]
  },
  {
   "cell_type": "markdown",
   "metadata": {},
   "source": [
    "# Token Count"
   ]
  },
  {
   "cell_type": "code",
   "execution_count": 16,
   "metadata": {},
   "outputs": [
    {
     "data": {
      "text/plain": [
       "(Counter({'O': 38068, 'Arg-B': 4823, 'Arg-I': 75312}),\n",
       " Counter({'O': 9415, 'Arg-B': 1266, 'Arg-I': 18748}))"
      ]
     },
     "execution_count": 16,
     "metadata": {},
     "output_type": "execute_result"
    }
   ],
   "source": [
    "arg_train = open('data/SG2017_tok/train.txt','r').readlines()\n",
    "arg_train_labels = [line.split()[-1] for line in arg_train if len(line)>1]\n",
    "\n",
    "arg_test = open('data/SG2017_tok/test.txt').readlines()\n",
    "arg_test_labels = [line.split()[-1] for line in arg_test if len(line)>1]\n",
    "\n",
    "Counter(arg_train_labels), Counter(arg_test_labels)"
   ]
  },
  {
   "cell_type": "code",
   "execution_count": 20,
   "metadata": {},
   "outputs": [
    {
     "data": {
      "text/plain": [
       "(Counter({'O': 38068,\n",
       "          'B-claim': 1800,\n",
       "          'I-claim': 25126,\n",
       "          'B-premise': 3023,\n",
       "          'I-premise': 50186}),\n",
       " Counter({'O': 9415,\n",
       "          'B-claim': 457,\n",
       "          'I-claim': 5888,\n",
       "          'B-premise': 809,\n",
       "          'I-premise': 12860}))"
      ]
     },
     "execution_count": 20,
     "metadata": {},
     "output_type": "execute_result"
    }
   ],
   "source": [
    "train = open('data/SG2017_claim_premise/train.txt','r').readlines()\n",
    "train_labels = [line.split()[-1] for line in train if len(line)>1]\n",
    "\n",
    "test = open('data/SG2017_claim_premise/test.txt').readlines()\n",
    "test_labels = [line.split()[-1] for line in test if len(line)>1]\n",
    "\n",
    "Counter(train_labels), Counter(test_labels)"
   ]
  },
  {
   "cell_type": "code",
   "execution_count": 18,
   "metadata": {},
   "outputs": [
    {
     "data": {
      "text/plain": [
       "(Counter({'O-claim': 91277, 'B-claim': 1800, 'I-claim': 25126}),\n",
       " Counter({'O-claim': 23084, 'B-claim': 457, 'I-claim': 5888}))"
      ]
     },
     "execution_count": 18,
     "metadata": {},
     "output_type": "execute_result"
    }
   ],
   "source": [
    "train = open('data/SG2017_claim/train.txt','r').readlines()\n",
    "train_labels = [line.split()[-1] for line in train if len(line)>1]\n",
    "\n",
    "test = open('data/SG2017_claim/test.txt').readlines()\n",
    "test_labels = [line.split()[-1] for line in test if len(line)>1]\n",
    "\n",
    "Counter(train_labels), Counter(test_labels)"
   ]
  },
  {
   "cell_type": "code",
   "execution_count": 21,
   "metadata": {},
   "outputs": [
    {
     "data": {
      "text/plain": [
       "(Counter({'O-premise': 64763, 'B-premise': 3007, 'I-premise': 49930}),\n",
       " Counter({'O-premise': 15587, 'B-premise': 798, 'I-premise': 12693}))"
      ]
     },
     "execution_count": 21,
     "metadata": {},
     "output_type": "execute_result"
    }
   ],
   "source": [
    "train = open('data/SG2017_premise/train.txt','r').readlines()\n",
    "train_labels = [line.split()[-1] for line in train if len(line)>1]\n",
    "\n",
    "test = open('data/SG2017_premise/test.txt').readlines()\n",
    "test_labels = [line.split()[-1] for line in test if len(line)>1]\n",
    "\n",
    "Counter(train_labels), Counter(test_labels)"
   ]
  },
  {
   "cell_type": "code",
   "execution_count": null,
   "metadata": {},
   "outputs": [],
   "source": []
  }
 ],
 "metadata": {
  "kernelspec": {
   "display_name": "Python 3",
   "language": "python",
   "name": "python3"
  },
  "language_info": {
   "codemirror_mode": {
    "name": "ipython",
    "version": 3
   },
   "file_extension": ".py",
   "mimetype": "text/x-python",
   "name": "python",
   "nbconvert_exporter": "python",
   "pygments_lexer": "ipython3",
   "version": "3.7.6"
  }
 },
 "nbformat": 4,
 "nbformat_minor": 4
}
