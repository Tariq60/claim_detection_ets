{
 "cells": [
  {
   "cell_type": "code",
   "execution_count": 4,
   "metadata": {},
   "outputs": [],
   "source": [
    "SG_train = open('../data/SG2017_claim/train.txt').readlines()\n",
    "SG_test = open('../data/SG2017_claim/test.txt').readlines()\n",
    "\n",
    "SG_train_ds = open('../data/SG2017_claim_downsampled/train.txt').readlines()\n",
    "SG_train_bal = open('../data/SG2017_claim_balanced/train.txt').readlines()\n",
    "\n",
    "WM_train = open('../../data_wm/arg_clean_45_2/train.txt').readlines()\n",
    "WM_test = open('../../data_wm/arg_clean_45_1/test.txt').readlines()"
   ]
  },
  {
   "cell_type": "code",
   "execution_count": 7,
   "metadata": {},
   "outputs": [],
   "source": [
    "# essay 307 starts at line 95,370 in SG_train\n",
    "# this will make the dev set consist of 80 essays just like the test set\n",
    "# SG train will have the remaining 402-80-80 = 242\n",
    "SG_dev = SG_train[95369:]\n",
    "SG_train = SG_train[:95369]"
   ]
  },
  {
   "cell_type": "code",
   "execution_count": 16,
   "metadata": {},
   "outputs": [],
   "source": [
    "# essay 37 outof 45 starts at line 20314 in WM_train\n",
    "# we will make those 9 essays as WM_dev and the remaining 36 as WM_train, WM_test will remain intact with 45 essays\n",
    "WM_dev = WM_train[20313:]\n",
    "WM_train = WM_train[:20313]"
   ]
  },
  {
   "cell_type": "code",
   "execution_count": 18,
   "metadata": {},
   "outputs": [
    {
     "data": {
      "text/plain": [
       "(115682, 46568, 57081)"
      ]
     },
     "execution_count": 18,
     "metadata": {},
     "output_type": "execute_result"
    }
   ],
   "source": [
    "all_train = SG_train + WM_train\n",
    "all_dev = SG_dev + WM_dev\n",
    "all_test = SG_test + WM_test\n",
    "\n",
    "len(all_train), len(all_dev), len(all_test)"
   ]
  },
  {
   "cell_type": "code",
   "execution_count": 25,
   "metadata": {},
   "outputs": [],
   "source": [
    "with open('../data_newsplit/SG/train.txt','w') as writer:\n",
    "    for line in SG_train:\n",
    "        writer.write(line)\n",
    "\n",
    "with open('../data_newsplit/SG/dev.txt','w') as writer:\n",
    "    for line in SG_dev:\n",
    "        writer.write(line)\n",
    "\n",
    "with open('../data_newsplit/SG/test.txt','w') as writer:\n",
    "    for line in SG_test:\n",
    "        writer.write(line)\n",
    "        \n",
    "with open('../data_newsplit/SG/WM_test/test.txt','w') as writer:\n",
    "    for line in WM_test:\n",
    "        writer.write(line)"
   ]
  },
  {
   "cell_type": "code",
   "execution_count": 26,
   "metadata": {},
   "outputs": [],
   "source": [
    "with open('../data_newsplit/SG_WM/train.txt','w') as writer:\n",
    "    for line in all_train:\n",
    "        writer.write(line)\n",
    "\n",
    "with open('../data_newsplit/SG_WM/dev.txt','w') as writer:\n",
    "    for line in all_dev:\n",
    "        writer.write(line)\n",
    "\n",
    "with open('../data_newsplit/SG_WM/test.txt','w') as writer:\n",
    "    for line in all_test:\n",
    "        writer.write(line)\n",
    "        \n",
    "with open('../data_newsplit/SG_WM/SG_test/test.txt','w') as writer:\n",
    "    for line in SG_test:\n",
    "        writer.write(line)\n",
    "        \n",
    "with open('../data_newsplit/SG_WM/WM_test/test.txt','w') as writer:\n",
    "    for line in WM_test:\n",
    "        writer.write(line)"
   ]
  },
  {
   "cell_type": "code",
   "execution_count": null,
   "metadata": {},
   "outputs": [],
   "source": []
  }
 ],
 "metadata": {
  "kernelspec": {
   "display_name": "Python 3",
   "language": "python",
   "name": "python3"
  },
  "language_info": {
   "codemirror_mode": {
    "name": "ipython",
    "version": 3
   },
   "file_extension": ".py",
   "mimetype": "text/x-python",
   "name": "python",
   "nbconvert_exporter": "python",
   "pygments_lexer": "ipython3",
   "version": "3.7.6"
  }
 },
 "nbformat": 4,
 "nbformat_minor": 4
}
