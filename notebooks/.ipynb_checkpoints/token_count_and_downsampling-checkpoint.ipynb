{
 "cells": [
  {
   "cell_type": "code",
   "execution_count": 14,
   "metadata": {},
   "outputs": [],
   "source": [
    "from collections import Counter"
   ]
  },
  {
   "cell_type": "markdown",
   "metadata": {},
   "source": [
    "# Downsampling"
   ]
  },
  {
   "cell_type": "code",
   "execution_count": 2,
   "metadata": {},
   "outputs": [],
   "source": [
    "train = open('../data/SG2017_claim/train.txt','r').readlines()"
   ]
  },
  {
   "cell_type": "code",
   "execution_count": 3,
   "metadata": {},
   "outputs": [
    {
     "data": {
      "text/plain": [
       "'Should O-claim\\n'"
      ]
     },
     "execution_count": 3,
     "metadata": {},
     "output_type": "execute_result"
    }
   ],
   "source": []
  },
  {
   "cell_type": "markdown",
   "metadata": {},
   "source": [
    "# Token Count"
   ]
  },
  {
   "cell_type": "code",
   "execution_count": 16,
   "metadata": {},
   "outputs": [
    {
     "data": {
      "text/plain": [
       "(Counter({'O': 38068, 'Arg-B': 4823, 'Arg-I': 75312}),\n",
       " Counter({'O': 9415, 'Arg-B': 1266, 'Arg-I': 18748}))"
      ]
     },
     "execution_count": 16,
     "metadata": {},
     "output_type": "execute_result"
    }
   ],
   "source": [
    "arg_train = open('data/SG2017_tok/train.txt','r').readlines()\n",
    "arg_train_labels = [line.split()[-1] for line in arg_train if len(line)>1]\n",
    "\n",
    "arg_test = open('data/SG2017_tok/test.txt').readlines()\n",
    "arg_test_labels = [line.split()[-1] for line in arg_test if len(line)>1]\n",
    "\n",
    "Counter(arg_train_labels), Counter(arg_test_labels)"
   ]
  },
  {
   "cell_type": "code",
   "execution_count": 20,
   "metadata": {},
   "outputs": [
    {
     "data": {
      "text/plain": [
       "(Counter({'O': 38068,\n",
       "          'B-claim': 1800,\n",
       "          'I-claim': 25126,\n",
       "          'B-premise': 3023,\n",
       "          'I-premise': 50186}),\n",
       " Counter({'O': 9415,\n",
       "          'B-claim': 457,\n",
       "          'I-claim': 5888,\n",
       "          'B-premise': 809,\n",
       "          'I-premise': 12860}))"
      ]
     },
     "execution_count": 20,
     "metadata": {},
     "output_type": "execute_result"
    }
   ],
   "source": [
    "train = open('data/SG2017_claim_premise/train.txt','r').readlines()\n",
    "train_labels = [line.split()[-1] for line in train if len(line)>1]\n",
    "\n",
    "test = open('data/SG2017_claim_premise/test.txt').readlines()\n",
    "test_labels = [line.split()[-1] for line in test if len(line)>1]\n",
    "\n",
    "Counter(train_labels), Counter(test_labels)"
   ]
  },
  {
   "cell_type": "code",
   "execution_count": 18,
   "metadata": {},
   "outputs": [
    {
     "data": {
      "text/plain": [
       "(Counter({'O-claim': 91277, 'B-claim': 1800, 'I-claim': 25126}),\n",
       " Counter({'O-claim': 23084, 'B-claim': 457, 'I-claim': 5888}))"
      ]
     },
     "execution_count": 18,
     "metadata": {},
     "output_type": "execute_result"
    }
   ],
   "source": [
    "train = open('data/SG2017_claim/train.txt','r').readlines()\n",
    "train_labels = [line.split()[-1] for line in train if len(line)>1]\n",
    "\n",
    "test = open('data/SG2017_claim/test.txt').readlines()\n",
    "test_labels = [line.split()[-1] for line in test if len(line)>1]\n",
    "\n",
    "Counter(train_labels), Counter(test_labels)"
   ]
  },
  {
   "cell_type": "code",
   "execution_count": 21,
   "metadata": {},
   "outputs": [
    {
     "data": {
      "text/plain": [
       "(Counter({'O-premise': 64763, 'B-premise': 3007, 'I-premise': 49930}),\n",
       " Counter({'O-premise': 15587, 'B-premise': 798, 'I-premise': 12693}))"
      ]
     },
     "execution_count": 21,
     "metadata": {},
     "output_type": "execute_result"
    }
   ],
   "source": [
    "train = open('data/SG2017_premise/train.txt','r').readlines()\n",
    "train_labels = [line.split()[-1] for line in train if len(line)>1]\n",
    "\n",
    "test = open('data/SG2017_premise/test.txt').readlines()\n",
    "test_labels = [line.split()[-1] for line in test if len(line)>1]\n",
    "\n",
    "Counter(train_labels), Counter(test_labels)"
   ]
  },
  {
   "cell_type": "code",
   "execution_count": null,
   "metadata": {},
   "outputs": [],
   "source": []
  }
 ],
 "metadata": {
  "kernelspec": {
   "display_name": "Python 3",
   "language": "python",
   "name": "python3"
  },
  "language_info": {
   "codemirror_mode": {
    "name": "ipython",
    "version": 3
   },
   "file_extension": ".py",
   "mimetype": "text/x-python",
   "name": "python",
   "nbconvert_exporter": "python",
   "pygments_lexer": "ipython3",
   "version": "3.7.6"
  }
 },
 "nbformat": 4,
 "nbformat_minor": 4
}
