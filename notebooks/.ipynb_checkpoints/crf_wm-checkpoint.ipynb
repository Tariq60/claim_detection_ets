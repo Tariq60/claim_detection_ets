{
 "cells": [
  {
   "cell_type": "code",
   "execution_count": 1,
   "metadata": {},
   "outputs": [],
   "source": [
    "import pickle\n",
    "import copy\n",
    "import numpy as np\n",
    "import sklearn\n",
    "import scipy.stats\n",
    "from sklearn.metrics import make_scorer\n",
    "from sklearn.metrics import classification_report\n",
    "# from sklearn.cross_validation import cross_val_score\n",
    "# from sklearn.grid_search import RandomizedSearchCV\n",
    "\n",
    "import sklearn_crfsuite\n",
    "from sklearn_crfsuite import scorers\n",
    "from sklearn_crfsuite import metrics"
   ]
  },
  {
   "cell_type": "code",
   "execution_count": 2,
   "metadata": {},
   "outputs": [],
   "source": [
    "def get_sent_labels(token_list):\n",
    "    sent_labels, sentences, sent_start = [], [], 0\n",
    "    for i, line in enumerate(token_list):\n",
    "        if line == '\\n':\n",
    "            sentences.append(sent_labels)\n",
    "            sent_labels = []\n",
    "        else:        \n",
    "            token, label = line.rstrip().split()\n",
    "            sent_labels.append(label)\n",
    "    return sentences\n",
    "\n",
    "def sent2features(sent_emb):\n",
    "    features = []\n",
    "\n",
    "    for word_emb in sent_emb:\n",
    "        word_features = {}\n",
    "        if len(word_emb.shape) > 0:\n",
    "            for i in range(word_emb.shape[0]):\n",
    "                word_features['bert_features_{}'.format(i)] = float(word_emb[i])\n",
    "        else:\n",
    "            word_features['bert_features_0'] = float(word_emb)\n",
    "            \n",
    "        features.append(copy.deepcopy(word_features))\n",
    "        del word_features\n",
    "    \n",
    "    return features\n",
    "\n",
    "def merge_features(bert_features, other_features):\n",
    "    \n",
    "    for sent_emb_features, sent_other_features in zip(bert_features, other_features):\n",
    "        \n",
    "        for word_emb_features, word_other_features in zip(sent_emb_features[:len(sent_other_features)], sent_other_features):\n",
    "            word_other_features.update(word_emb_features)\n",
    "        \n",
    "        if len(sent_other_features) > len(sent_emb_features):\n",
    "            for _ in range(len(sent_other_features)-len(sent_emb_features)):\n",
    "                sent_other_features.pop()"
   ]
  },
  {
   "cell_type": "code",
   "execution_count": 6,
   "metadata": {},
   "outputs": [
    {
     "name": "stdout",
     "output_type": "stream",
     "text": [
      "1266 1266\n",
      "1862 1862\n",
      "1332 1332\n"
     ]
    }
   ],
   "source": [
    "wm1 = open('../../data_wm/arg_clean_45_1/test.txt','r').readlines()\n",
    "wm1_labels = get_sent_labels(wm1)\n",
    "wm1_features = pickle.load(open('../features/wm1_emb.p','rb'))\n",
    "print(len(wm1_features), len(wm1_labels))\n",
    "\n",
    "wm2 = open('../../data_wm/arg_clean_45_2/train.txt','r').readlines()\n",
    "wm2_labels = get_sent_labels(wm2)\n",
    "wm2_features = pickle.load(open('../features/wm2_emb.p','rb'))\n",
    "print(len(wm2_features), len(wm2_labels))\n",
    "\n",
    "wm_nr = open('../../data_wm/wm_narrative/test.txt','r').readlines()\n",
    "wm_nr_labels = get_sent_labels(wm_nr)\n",
    "\n",
    "wm_nr_features = pickle.load(open('../features/narr_emb.p','rb'))\n",
    "print(len(wm_nr_features), len(wm_nr_labels))"
   ]
  },
  {
   "cell_type": "code",
   "execution_count": 7,
   "metadata": {},
   "outputs": [],
   "source": [
    "# bert embeddings only\n",
    "crf = sklearn_crfsuite.CRF(algorithm='lbfgs', c1=0.1, c2=0.1, max_iterations=100, all_possible_transitions=True)\n",
    "crf.fit(wm2_features, wm2_labels)\n",
    "\n",
    "y_pred = crf.predict(wm1_features)\n",
    "y_test_flat = [y for y_seq in wm1_labels for y in y_seq]\n",
    "y_pred_flat = [y for y_seq in y_pred for y in y_seq]\n",
    "print(classification_report(y_test_flat, y_pred_flat, digits=3))\n",
    "\n",
    "y_pred = crf.predict(wm_nr_features)\n",
    "y_test_flat = [y for y_seq in wm_nr_labels for y in y_seq]\n",
    "y_pred_flat = [y for y_seq in y_pred for y in y_seq]\n",
    "print(classification_report(y_test_flat, y_pred_flat, digits=3))"
   ]
  },
  {
   "cell_type": "code",
   "execution_count": 4,
   "metadata": {},
   "outputs": [
    {
     "data": {
      "text/plain": [
       "(1862, 1862)"
      ]
     },
     "execution_count": 4,
     "metadata": {},
     "output_type": "execute_result"
    }
   ],
   "source": [
    "wm1_lexsyn = pickle.load(open('../features/wm1_lexsyn.p','rb'))\n",
    "wm2_lexsyn = pickle.load(open('../features/wm.p','rb'))\n",
    "wm_nr_lexsyn = pickle.load(open('../features/wm_nr_emb.p','rb'))"
   ]
  },
  {
   "cell_type": "code",
   "execution_count": null,
   "metadata": {},
   "outputs": [],
   "source": [
    "# bert embeddings only\n",
    "crf = sklearn_crfsuite.CRF(algorithm='lbfgs', c1=0.1, c2=0.1, max_iterations=100, all_possible_transitions=True)\n",
    "crf.fit(wm2_lexsyn, wm2_labels)\n",
    "\n",
    "y_pred = crf.predict(wm1_lexsyn)\n",
    "y_test_flat = [y for y_seq in wm1_labels for y in y_seq]\n",
    "y_pred_flat = [y for y_seq in y_pred for y in y_seq]\n",
    "print(classification_report(y_test_flat, y_pred_flat, digits=3))\n",
    "\n",
    "y_pred = crf.predict(wm_nr_lexsyn)\n",
    "y_test_flat = [y for y_seq in wm_nr_labels for y in y_seq]\n",
    "y_pred_flat = [y for y_seq in y_pred for y in y_seq]\n",
    "print(classification_report(y_test_flat, y_pred_flat, digits=3))"
   ]
  },
  {
   "cell_type": "code",
   "execution_count": null,
   "metadata": {},
   "outputs": [],
   "source": [
    "# x_lexsyn has both lexsyn and bert features after using merge\n",
    "merge_features(wm_nr_features, wm1_lexsyn)\n",
    "merge_features(wm2_features, wm2_lexsyn)\n",
    "merge_features(wm_nr_features, wm_nr_lexsyn)"
   ]
  }
 ],
 "metadata": {
  "kernelspec": {
   "display_name": "Python 3",
   "language": "python",
   "name": "python3"
  },
  "language_info": {
   "codemirror_mode": {
    "name": "ipython",
    "version": 3
   },
   "file_extension": ".py",
   "mimetype": "text/x-python",
   "name": "python",
   "nbconvert_exporter": "python",
   "pygments_lexer": "ipython3",
   "version": "3.7.6"
  }
 },
 "nbformat": 4,
 "nbformat_minor": 4
}
